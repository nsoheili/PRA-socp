{
 "cells": [
  {
   "cell_type": "markdown",
   "id": "33352d11",
   "metadata": {},
   "source": [
    "## Some simple examples: compare different updates on PRA\n",
    "#### Projection and rescaling algorithm for second-order conic systems"
   ]
  },
  {
   "cell_type": "code",
   "execution_count": 1,
   "id": "46705bd5",
   "metadata": {},
   "outputs": [],
   "source": [
    "import numpy as np\n",
    "import time\n",
    "import pandas as pd\n",
    "import PRAalgos as pra\n",
    "from PRAalgos import Cone,PRA,PRAvariant,NaiveInstance,ControlledInstance\n",
    "from PRAtests import experiments,comparePRA,comparison"
   ]
  },
  {
   "cell_type": "markdown",
   "id": "b243a0b3",
   "metadata": {},
   "source": [
    "#### Create a cone, a naive random instance, and center of the cone"
   ]
  },
  {
   "cell_type": "code",
   "execution_count": 2,
   "id": "ff1ae57a",
   "metadata": {},
   "outputs": [],
   "source": [
    "r = 100; d = 10 ; dim = np.ones(r)*d ; dim = dim.astype(int);\n",
    "K = Cone(dim) ; n = sum(K.dim) ; \n",
    "m = n/2 ; m = m.astype(int) ;\n",
    "A,AA = NaiveInstance(m,sum(K.dim)) ; \n",
    "u0 = np.zeros(n) ; u0[K.sdim] = 1 ; u0 = u0/(2*sum(u0))"
   ]
  },
  {
   "cell_type": "code",
   "execution_count": 3,
   "id": "21da6419",
   "metadata": {},
   "outputs": [
    {
     "name": "stdout",
     "output_type": "stream",
     "text": [
      "cputime =  0.438920259475708\n",
      "number of rescalings steps =  0 ,  number of iterations =  60\n",
      "found solution in L \\cap K\n",
      "norm(xL) =  1.0\n",
      "norm(A@xL) =  7.087241591056481e-15\n"
     ]
    }
   ],
   "source": [
    "stime = time.time()\n",
    "feas,xL,xLperp,k,Total = PRA(A, AA, K, u0)\n",
    "print('cputime = ',str(time.time()-stime))\n",
    "print('number of rescalings steps = ', k, ',  number of iterations = ',Total)\n",
    "if (feas == 1): \n",
    "    print('found solution in L \\cap K') \n",
    "    print('norm(xL) = ',str(np.linalg.norm(xL)))    \n",
    "    print('norm(A@xL) = ', str(np.linalg.norm(A@xL)))\n",
    "elif (feas == 2): \n",
    "    print('found solution in Lperp \\cap K') \n",
    "    print('norm(xLperp) = ',str(np.linalg.norm(xLperp)))    \n",
    "    print('norm(AA@xLperp) = ', str(np.linalg.norm(AA@xLperp)))\n",
    "else:\n",
    "    print('failure')"
   ]
  },
  {
   "cell_type": "code",
   "execution_count": 4,
   "id": "8afb99ad",
   "metadata": {},
   "outputs": [
    {
     "name": "stdout",
     "output_type": "stream",
     "text": [
      "cputime =  0.426011323928833\n",
      "number of rescalings steps =  0 ,  number of iterations =  60\n",
      "found solution in L \\cap K\n",
      "norm(xL) =  1.0\n",
      "norm(A@xL) =  7.087241591056481e-15\n"
     ]
    }
   ],
   "source": [
    "stime = time.time()\n",
    "feas,xL,xLperp,k,Total = PRAvariant(A, AA, K, u0)\n",
    "print('cputime = ',str(time.time()-stime))\n",
    "print('number of rescalings steps = ', k, ',  number of iterations = ',Total)\n",
    "if (feas == 1): \n",
    "    print('found solution in L \\cap K') \n",
    "    print('norm(xL) = ',str(np.linalg.norm(xL)))    \n",
    "    print('norm(A@xL) = ', str(np.linalg.norm(A@xL)))\n",
    "elif (feas == 2): \n",
    "    print('found solution in Lperp \\cap K') \n",
    "    print('norm(xLperp) = ',str(np.linalg.norm(xLperp)))    \n",
    "    print('norm(AA@xLperp) = ', str(np.linalg.norm(AA@xLperp)))\n",
    "else:\n",
    "    print('failure')"
   ]
  },
  {
   "cell_type": "code",
   "execution_count": 5,
   "id": "b09f2aaa",
   "metadata": {},
   "outputs": [],
   "source": [
    "delta = 0.001\n",
    "r0 = int(np.round(np.random.rand()*K.r*0.3)) \n",
    "lx = np.hstack((np.random.rand(r0),delta*np.random.rand(r-r0)))\n",
    "lx = lx/max(lx) \n",
    "x = np.zeros(n)\n",
    "x[K.sdim]=lx\n",
    "for j in range(K.r):\n",
    "    indx = range(K.dim[j])+K.sdim[j]    \n",
    "    u = np.random.randn(len(indx)-1) \n",
    "    x[indx[1:len(indx)]] = u*x[K.sdim[j]]*(1-delta*np.random.rand())/np.linalg.norm(u)    \n",
    "A,AA = ControlledInstance(m,x,K) "
   ]
  },
  {
   "cell_type": "markdown",
   "id": "cec51927",
   "metadata": {},
   "source": [
    "#### Run PRA algorithm and report results"
   ]
  },
  {
   "cell_type": "code",
   "execution_count": 6,
   "id": "1c4fabc0",
   "metadata": {},
   "outputs": [
    {
     "name": "stdout",
     "output_type": "stream",
     "text": [
      "cputime =  9.05064082145691\n",
      "number of rescalings steps =  8 ,  number of iterations =  1296\n",
      "found solution in L \\cap K\n",
      "norm(xL) =  1.0\n",
      "norm(A@xL) =  4.294378503521955e-12\n"
     ]
    }
   ],
   "source": [
    "stime = time.time()\n",
    "feas,xL,xLperp,k,Total = PRA(A, AA, K, u0)\n",
    "print('cputime = ',str(time.time()-stime))\n",
    "print('number of rescalings steps = ', k, ',  number of iterations = ',Total)\n",
    "if (feas == 1): \n",
    "    print('found solution in L \\cap K') \n",
    "    print('norm(xL) = ',str(np.linalg.norm(xL)))    \n",
    "    print('norm(A@xL) = ', str(np.linalg.norm(A@xL)))\n",
    "elif (feas == 2): \n",
    "    print('found solution in Lperp \\cap K') \n",
    "    print('norm(xLperp) = ',str(np.linalg.norm(xLperp)))    \n",
    "    print('norm(AA@xLperp) = ', str(np.linalg.norm(AA@xLperp)))\n",
    "else:\n",
    "    print('failure')"
   ]
  },
  {
   "cell_type": "markdown",
   "id": "40b4ccd0",
   "metadata": {},
   "source": [
    "#### Compare with PRAvariant"
   ]
  },
  {
   "cell_type": "code",
   "execution_count": 7,
   "id": "7bc404f5",
   "metadata": {},
   "outputs": [
    {
     "name": "stdout",
     "output_type": "stream",
     "text": [
      "cputime =  11.341863870620728\n",
      "number of rescalings steps =  8 ,  number of iterations =  1296\n",
      "found solution in L \\cap K\n",
      "norm(xL) =  1.0\n",
      "norm(A@xL) =  7.991893501157858e-15\n"
     ]
    }
   ],
   "source": [
    "stime = time.time()\n",
    "feas,xL,xLperp,k,Total = PRAvariant(A, AA, K, u0)\n",
    "print('cputime = ',str(time.time()-stime))\n",
    "print('number of rescalings steps = ', k, ',  number of iterations = ',Total)\n",
    "if (feas == 1): \n",
    "    print('found solution in L \\cap K') \n",
    "    print('norm(xL) = ',str(np.linalg.norm(xL)))\n",
    "    print('norm(A@xL) = ', str(np.linalg.norm(A@xL)))\n",
    "elif (feas == 2): \n",
    "    print('found solution in Lperp \\cap K') \n",
    "    print('norm(xLperp) = ',str(np.linalg.norm(xLperp)))\n",
    "    print('norm(AA@xLperp) = ', str(np.linalg.norm(AA@xLperp)))\n",
    "else:\n",
    "    print('failure')    "
   ]
  },
  {
   "cell_type": "code",
   "execution_count": null,
   "id": "89d825b7",
   "metadata": {},
   "outputs": [],
   "source": []
  }
 ],
 "metadata": {
  "kernelspec": {
   "display_name": "Python 3 (ipykernel)",
   "language": "python",
   "name": "python3"
  },
  "language_info": {
   "codemirror_mode": {
    "name": "ipython",
    "version": 3
   },
   "file_extension": ".py",
   "mimetype": "text/x-python",
   "name": "python",
   "nbconvert_exporter": "python",
   "pygments_lexer": "ipython3",
   "version": "3.9.7"
  }
 },
 "nbformat": 4,
 "nbformat_minor": 5
}
