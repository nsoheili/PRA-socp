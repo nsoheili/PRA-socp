{
 "cells": [
  {
   "cell_type": "markdown",
   "id": "33352d11",
   "metadata": {},
   "source": [
    "## Some simple examples with PRA-socp\n",
    "#### Projection and rescaling algorithm for second-order conic systems"
   ]
  },
  {
   "cell_type": "code",
   "execution_count": 1,
   "id": "46705bd5",
   "metadata": {},
   "outputs": [],
   "source": [
    "import numpy as np\n",
    "import time\n",
    "import pandas as pd\n",
    "from PRAalgos import Cone,PRA,PRAcpversion,NaiveInstance,ControlledInstance\n",
    "from PRAtests import experiments,comparePRA,comparison"
   ]
  },
  {
   "cell_type": "markdown",
   "id": "b243a0b3",
   "metadata": {},
   "source": [
    "#### Create a cone, a naive random instance, and center of the cone"
   ]
  },
  {
   "cell_type": "code",
   "execution_count": 2,
   "id": "ff1ae57a",
   "metadata": {},
   "outputs": [],
   "source": [
    "r = 10; d = 10 ; dim = np.ones(r)*d ; dim = dim.astype(int);\n",
    "K = Cone(dim) ; n = sum(K.dim) ; \n",
    "m = n/2 ; m = m.astype(int) ;\n",
    "A,AA = NaiveInstance(m,sum(K.dim)) ; \n",
    "u0 = np.zeros(n) ; u0[K.sdim] = 1 ; u0 = u0/(2*sum(u0))"
   ]
  },
  {
   "cell_type": "markdown",
   "id": "cec51927",
   "metadata": {},
   "source": [
    "#### Run PRA algorithm and report results"
   ]
  },
  {
   "cell_type": "code",
   "execution_count": 3,
   "id": "1c4fabc0",
   "metadata": {},
   "outputs": [
    {
     "name": "stdout",
     "output_type": "stream",
     "text": [
      "number of rescalings steps =  0 ,  number of iterations =  3\n",
      "found solution in L \\cap K\n",
      "norm(xL) =  1.0\n",
      "norm(A@xL) =  7.692422894854056e-16\n"
     ]
    }
   ],
   "source": [
    "feas,xL,xLperp,k,Total = PRA(A, AA, K, u0)\n",
    "print('number of rescalings steps = ', k, ',  number of iterations = ',Total)\n",
    "if (feas == 1): \n",
    "    print('found solution in L \\cap K') \n",
    "    print('norm(xL) = ',str(np.linalg.norm(xL)))    \n",
    "    print('norm(A@xL) = ', str(np.linalg.norm(A@xL)))\n",
    "elif (feas == 2): \n",
    "    print('found solution in Lperp \\cap K') \n",
    "    print('norm(xLperp) = ',str(np.linalg.norm(xLperp)))    \n",
    "    print('norm(AA@xLperp) = ', str(np.linalg.norm(AA@xLperp)))\n",
    "else:\n",
    "    print('PRA failed')"
   ]
  },
  {
   "cell_type": "markdown",
   "id": "40b4ccd0",
   "metadata": {},
   "source": [
    "#### Compare with cvxpy version"
   ]
  },
  {
   "cell_type": "code",
   "execution_count": 5,
   "id": "7bc404f5",
   "metadata": {},
   "outputs": [
    {
     "name": "stdout",
     "output_type": "stream",
     "text": [
      "found solution in L \\cap K\n",
      "norm(xL) =  0.9999999999999999\n",
      "norm(A@xL) =  5.948553479709031e-13\n"
     ]
    }
   ],
   "source": [
    "xL,xLperp,feas = PRAcpversion(A,AA,K,solver = 'MOSEK')\n",
    "if (feas == 1): \n",
    "    print('found solution in L \\cap K') \n",
    "    print('norm(xL) = ',str(np.linalg.norm(xL)))\n",
    "    print('norm(A@xL) = ', str(np.linalg.norm(A@xL)))\n",
    "elif (feas == 2): \n",
    "    print('found solution in Lperp \\cap K') \n",
    "    print('norm(xLperp) = ',str(np.linalg.norm(xLperp)))\n",
    "    print('norm(AA@xLperp) = ', str(np.linalg.norm(AA@xLperp)))\n",
    "else:\n",
    "    print('PRAcpversion failed')     "
   ]
  },
  {
   "cell_type": "markdown",
   "id": "75e9ab4e",
   "metadata": {},
   "source": [
    "#### Run some experiments to compare PRA with GUROBI, ECOS, SCS on controlled instances"
   ]
  },
  {
   "cell_type": "code",
   "execution_count": 6,
   "id": "eb7ac3da",
   "metadata": {},
   "outputs": [
    {
     "name": "stdout",
     "output_type": "stream",
     "text": [
      "Running experiments for N = 5, r = 5, n = 100, delta = 1\n",
      "Set parameter Username\n",
      "Academic license - for non-commercial use only - expires 2022-08-12\n"
     ]
    },
    {
     "name": "stderr",
     "output_type": "stream",
     "text": [
      "/Users/javipena/opt/anaconda3/lib/python3.9/site-packages/cvxpy/problems/problem.py:1294: UserWarning: Solution may be inaccurate. Try another solver, adjusting the solver settings, or solve with verbose=True for more information.\n",
      "  warnings.warn(\n"
     ]
    },
    {
     "name": "stdout",
     "output_type": "stream",
     "text": [
      "Running experiments for N = 5, r = 10, n = 100, delta = 1\n",
      "Running experiments for N = 5, r = 20, n = 100, delta = 1\n",
      "Running experiments for N = 5, r = 5, n = 100, delta = 0.1\n",
      "Running experiments for N = 5, r = 10, n = 100, delta = 0.1\n",
      "Running experiments for N = 5, r = 20, n = 100, delta = 0.1\n",
      "Running experiments for N = 5, r = 5, n = 100, delta = 0.01\n",
      "Running experiments for N = 5, r = 10, n = 100, delta = 0.01\n",
      "Running experiments for N = 5, r = 20, n = 100, delta = 0.01\n",
      "Running experiments for N = 5, r = 5, n = 100, delta = 0.001\n",
      "Running experiments for N = 5, r = 10, n = 100, delta = 0.001\n",
      "Running experiments for N = 5, r = 20, n = 100, delta = 0.001\n",
      "\n",
      "\n",
      " Number of instances solved successfully\n",
      "\n",
      "        (1,5,100)  (1,10,100)  (1,20,100)  (0.1,5,100)  (0.1,10,100)  \\\n",
      "PRA             5           5           5            5             5   \n",
      "GUROBI          5           5           5            5             5   \n",
      "MOSEK           5           5           5            5             5   \n",
      "ECOS            5           5           5            5             5   \n",
      "SCS             4           5           5            5             5   \n",
      "\n",
      "        (0.1,20,100)  (0.01,5,100)  (0.01,10,100)  (0.01,20,100)  \\\n",
      "PRA                5             5              5              5   \n",
      "GUROBI             5             5              5              5   \n",
      "MOSEK              5             5              5              5   \n",
      "ECOS               5             3              5              5   \n",
      "SCS                5             1              3              4   \n",
      "\n",
      "        (0.001,5,100)  (0.001,10,100)  (0.001,20,100)  \n",
      "PRA                 5               5               5  \n",
      "GUROBI              5               5               2  \n",
      "MOSEK               3               5               4  \n",
      "ECOS                2               2               0  \n",
      "SCS                 1               1               0  \n",
      "\n",
      "\n",
      " Average CPU times of instances solved successfully\n",
      "\n",
      "        (1,5,100)  (1,10,100)  (1,20,100)  (0.1,5,100)  (0.1,10,100)  \\\n",
      "PRA      0.023134    0.040961    0.039952     0.041700      0.108168   \n",
      "GUROBI   0.026235    0.031497    0.047169     0.025630      0.033785   \n",
      "MOSEK    0.023160    0.030312    0.044542     0.023964      0.031243   \n",
      "ECOS     0.014661    0.027589    0.036066     0.015729      0.022884   \n",
      "SCS      0.012928    0.019843    0.038451     0.013729      0.021349   \n",
      "\n",
      "        (0.1,20,100)  (0.01,5,100)  (0.01,10,100)  (0.01,20,100)  \\\n",
      "PRA         0.237261      0.117593       0.177512       0.363944   \n",
      "GUROBI      0.048216      0.034802       0.036307       0.059685   \n",
      "MOSEK       0.045059      0.024393       0.031781       0.046260   \n",
      "ECOS        0.036060      0.016118       0.023386       0.038410   \n",
      "SCS         0.036536      0.014471       0.022905       0.038990   \n",
      "\n",
      "        (0.001,5,100)  (0.001,10,100)  (0.001,20,100)  \n",
      "PRA          0.145324        0.229405        0.514085  \n",
      "GUROBI       0.036265        0.041676        0.061827  \n",
      "MOSEK        0.026829        0.033399        0.049837  \n",
      "ECOS         0.016770        0.023093             NaN  \n",
      "SCS          0.016390        0.022953             NaN  \n",
      "\n",
      "\n",
      " Largest norm (instances solved successfully)\n",
      "\n",
      "           (1,5,100)    (1,10,100)    (1,20,100)   (0.1,5,100)  (0.1,10,100)  \\\n",
      "PRA     2.833176e-15  3.264401e-15  2.287058e-15  2.033701e-15  1.085408e-14   \n",
      "GUROBI  8.142690e-14  1.378925e-13  3.770634e-13  1.373506e-13  6.418758e-13   \n",
      "MOSEK   9.056871e-15  3.182254e-15  7.036740e-13  9.214645e-15  5.951616e-16   \n",
      "ECOS    2.090256e-16  2.439492e-16  2.207687e-16  2.402270e-16  7.247481e-16   \n",
      "SCS     1.337529e-11  2.844767e-10  7.802778e-09  2.244427e-10  2.035623e-09   \n",
      "\n",
      "        (0.1,20,100)  (0.01,5,100)  (0.01,10,100)  (0.01,20,100)  \\\n",
      "PRA     3.260029e-14  7.588876e-14   1.976737e-13   9.020804e-13   \n",
      "GUROBI  1.856649e-12  4.460014e-13   1.483984e-13   2.880777e-13   \n",
      "MOSEK   2.620649e-15  2.004887e-16   1.493256e-16   2.083903e-16   \n",
      "ECOS    8.628358e-16  4.063326e-15   9.203912e-16   3.251816e-16   \n",
      "SCS     9.668278e-09  1.086906e-11   2.082428e-11   9.803857e-12   \n",
      "\n",
      "        (0.001,5,100)  (0.001,10,100)  (0.001,20,100)  \n",
      "PRA      2.412004e-13    6.487455e-13    1.335419e-10  \n",
      "GUROBI   2.088102e-16    6.394153e-16    8.048807e-16  \n",
      "MOSEK    1.981705e-16    2.131492e-16    1.180066e-16  \n",
      "ECOS     3.554187e-15    3.112431e-16             NaN  \n",
      "SCS      3.047047e-12    6.296127e-13             NaN  \n",
      "\n",
      "\n",
      " Smallest minimum eigenvalue (instances solved successfully)\n",
      "\n",
      "        (1,5,100)  (1,10,100)  (1,20,100)  (0.1,5,100)  (0.1,10,100)  \\\n",
      "PRA      0.000539    0.000208    0.000140     0.000408      0.000035   \n",
      "GUROBI   0.000285    0.002501    0.002266     0.003136      0.000698   \n",
      "MOSEK    0.000287    0.001137    0.001690     0.001591      0.000250   \n",
      "ECOS     0.000590    0.001315    0.001957     0.002907      0.000409   \n",
      "SCS      0.011139    0.003835    0.002802     0.002807      0.000356   \n",
      "\n",
      "        (0.1,20,100)  (0.01,5,100)  (0.01,10,100)  (0.01,20,100)  \\\n",
      "PRA         0.000007  7.594633e-07   4.013356e-08   2.712367e-07   \n",
      "GUROBI      0.000003  9.092203e-08   4.975264e-06   1.571198e-06   \n",
      "MOSEK       0.000007  5.849920e-07   4.883374e-06   1.103547e-06   \n",
      "ECOS        0.000021  9.503712e-06   4.827429e-06   2.708663e-06   \n",
      "SCS         0.000011  4.612369e-04   6.787137e-06   1.762797e-06   \n",
      "\n",
      "        (0.001,5,100)  (0.001,10,100)  (0.001,20,100)  \n",
      "PRA      2.182630e-08    1.901998e-08    2.046510e-09  \n",
      "GUROBI   4.254805e-08    4.701152e-08    1.106529e-07  \n",
      "MOSEK    3.150683e-07    6.788230e-08    3.941518e-08  \n",
      "ECOS     3.698784e-06    3.812014e-05             NaN  \n",
      "SCS      1.143671e-05    5.869072e-05             NaN  \n"
     ]
    }
   ],
   "source": [
    "deltaset = (1,0.1,0.01,0.001) ; N = 5\n",
    "rset = (5,10,20) ; n = 100\n",
    "compsuccess,compCPU,largestnorm,smallestminev = comparison(rset,n,deltaset,N)"
   ]
  },
  {
   "cell_type": "markdown",
   "id": "dafac3fc",
   "metadata": {},
   "source": [
    "#### Run experiments as in the paper"
   ]
  },
  {
   "cell_type": "code",
   "execution_count": null,
   "id": "c6caa6e4",
   "metadata": {},
   "outputs": [],
   "source": [
    "N = 5\n",
    "lset = (3, 5, 9, 10, 12)\n",
    "dset = lset\n",
    "deltaset = (1.000, 0.500, 0.20, 0.1)\n",
    "limdim = 200\n",
    "dsum,dfResult = experiments(lset,dset,deltaset,N,limdim)"
   ]
  }
 ],
 "metadata": {
  "kernelspec": {
   "display_name": "Python 3 (ipykernel)",
   "language": "python",
   "name": "python3"
  },
  "language_info": {
   "codemirror_mode": {
    "name": "ipython",
    "version": 3
   },
   "file_extension": ".py",
   "mimetype": "text/x-python",
   "name": "python",
   "nbconvert_exporter": "python",
   "pygments_lexer": "ipython3",
   "version": "3.9.7"
  }
 },
 "nbformat": 4,
 "nbformat_minor": 5
}
